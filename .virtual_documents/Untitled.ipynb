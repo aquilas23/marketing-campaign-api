import joblib


model = joblib.load("marketing_campaign_model.pkl")


model


scaler = joblib.load("scaler.pkl")


scaler


features = [[70000, 10, 400, 100, 300, 80, 50, 5, 3, 7]]


scaled_features = scaler.transform(features)


model.predict(scaled_features)



